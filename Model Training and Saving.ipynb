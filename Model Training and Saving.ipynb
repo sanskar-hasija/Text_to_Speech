{
 "cells": [
  {
   "cell_type": "markdown",
   "metadata": {},
   "source": [
    "## Importing Libraries"
   ]
  },
  {
   "cell_type": "code",
   "execution_count": 83,
   "metadata": {},
   "outputs": [
    {
     "name": "stdout",
     "output_type": "stream",
     "text": [
      "Tensorflow Version =  2.1.0\n"
     ]
    }
   ],
   "source": [
    "import pandas as pd\n",
    "import tensorflow as tf\n",
    "from resnet import ResNet\n",
    "from data.datasets import load_mnist_dataset\n",
    "from data.datasets import load_az_dataset\n",
    "from tensorflow.keras.preprocessing.image import ImageDataGenerator\n",
    "from tensorflow.keras.optimizers import SGD\n",
    "from sklearn.preprocessing import LabelBinarizer\n",
    "from sklearn.model_selection import train_test_split\n",
    "from sklearn.metrics import classification_report\n",
    "from imutils import build_montages\n",
    "import matplotlib.pyplot as plt\n",
    "import numpy as np\n",
    "import cv2\n",
    "import seaborn as sns\n",
    "sns.set(style = \"darkgrid\")\n",
    "\n",
    "print(\"Tensorflow Version = \",tf.__version__)"
   ]
  },
  {
   "cell_type": "markdown",
   "metadata": {},
   "source": [
    "## Loadind up data"
   ]
  },
  {
   "cell_type": "code",
   "execution_count": 2,
   "metadata": {},
   "outputs": [],
   "source": [
    "EPOCHS = 50\n",
    "INIT_LR = 1e-1\n",
    "BS = 128\n",
    "(azData, azLabels) = load_az_dataset('data/a_z_handwritten_data.csv')\n",
    "(digitsData, digitsLabels) = load_mnist_dataset()"
   ]
  },
  {
   "cell_type": "markdown",
   "metadata": {},
   "source": [
    "## Data Resizing and conversion"
   ]
  },
  {
   "cell_type": "code",
   "execution_count": 3,
   "metadata": {},
   "outputs": [],
   "source": [
    "azLabels += 10\n",
    "data = np.vstack([azData, digitsData])\n",
    "labels = np.hstack([azLabels, digitsLabels])\n",
    "data = [cv2.resize(image, (32, 32)) for image in data]\n",
    "data = np.array(data, dtype=\"float32\")\n",
    "data = np.expand_dims(data, axis=-1)\n",
    "data /= 255.0"
   ]
  },
  {
   "cell_type": "code",
   "execution_count": 18,
   "metadata": {},
   "outputs": [
    {
     "data": {
      "text/plain": [
       "array([10, 10, 10, ...,  4,  5,  6], dtype=int64)"
      ]
     },
     "execution_count": 18,
     "metadata": {},
     "output_type": "execute_result"
    }
   ],
   "source": [
    "labels.argmax(axis=1)"
   ]
  },
  {
   "cell_type": "code",
   "execution_count": 31,
   "metadata": {},
   "outputs": [],
   "source": [
    "unique, counts = np.unique(labels.argmax(axis=1), return_counts=True)"
   ]
  },
  {
   "cell_type": "code",
   "execution_count": 61,
   "metadata": {},
   "outputs": [],
   "source": [
    "label_counts = np.asarray((unique, counts)).T"
   ]
  },
  {
   "cell_type": "code",
   "execution_count": 80,
   "metadata": {},
   "outputs": [
    {
     "data": {
      "text/plain": [
       "<BarContainer object of 36 artists>"
      ]
     },
     "execution_count": 80,
     "metadata": {},
     "output_type": "execute_result"
    },
    {
     "data": {
      "image/png": "[encoded data removed]",
      "text/plain": [
       "<Figure size 648x504 with 1 Axes>"
      ]
     },
     "metadata": {},
     "output_type": "display_data"
    }
   ],
   "source": [
    "f, ax = plt.subplots(figsize=(9,7))\n",
    "plt.bar(unique , counts ,width = 1 )"
   ]
  },
  {
   "cell_type": "markdown",
   "metadata": {},
   "source": [
    "## Spliting data "
   ]
  },
  {
   "cell_type": "code",
   "execution_count": 4,
   "metadata": {},
   "outputs": [],
   "source": [
    "le = LabelBinarizer()\n",
    "labels = le.fit_transform(labels)\n",
    "counts = labels.sum(axis=0)\n",
    "classTotals = labels.sum(axis=0)\n",
    "classWeight = {}\n",
    "for i in range(0, len(classTotals)):\n",
    "    classWeight[i] = classTotals.max() / classTotals[i]\n",
    "(trainX, testX, trainY, testY) = train_test_split(data,labels, test_size=0.20, stratify=labels, random_state=42)"
   ]
  },
  {
   "cell_type": "markdown",
   "metadata": {},
   "source": [
    "## Data augmentation"
   ]
  },
  {
   "cell_type": "code",
   "execution_count": 5,
   "metadata": {},
   "outputs": [],
   "source": [
    "# data augmentation\n",
    "aug = ImageDataGenerator(\n",
    "    rotation_range=10,\n",
    "    zoom_range=0.05,\n",
    "    width_shift_range=0.1,\n",
    "    height_shift_range=0.1,\n",
    "    shear_range=0.15,\n",
    "    horizontal_flip=False,\n",
    "    fill_mode=\"nearest\")"
   ]
  },
  {
   "cell_type": "markdown",
   "metadata": {},
   "source": [
    "## Compiling Model"
   ]
  },
  {
   "cell_type": "code",
   "execution_count": 6,
   "metadata": {},
   "outputs": [],
   "source": [
    "opt = SGD(lr=INIT_LR, decay=INIT_LR / EPOCHS)\n",
    "model = ResNet.build(32, 32, 1, len(le.classes_), (3, 3, 3),(64, 64, 128, 256), reg=0.0005)\n",
    "model.compile(loss=\"categorical_crossentropy\", optimizer=opt,metrics=[\"accuracy\"])"
   ]
  },
  {
   "cell_type": "markdown",
   "metadata": {},
   "source": [
    "## Training Model"
   ]
  },
  {
   "cell_type": "code",
   "execution_count": 7,
   "metadata": {
    "scrolled": false
   },
   "outputs": [
    {
     "name": "stdout",
     "output_type": "stream",
     "text": [
      "WARNING:tensorflow:sample_weight modes were coerced from\n",
      "  ...\n",
      "    to  \n",
      "  ['...']\n",
      "WARNING:tensorflow:sample_weight modes were coerced from\n",
      "  ...\n",
      "    to  \n",
      "  ['...']\n",
      "Train for 2765 steps, validate on 88491 samples\n",
      "Epoch 1/50\n",
      "2765/2765 - 266s - loss: 1.8996 - accuracy: 0.8679 - val_loss: 1.0922 - val_accuracy: 0.8730\n",
      "Epoch 2/50\n",
      "2765/2765 - 264s - loss: 0.9452 - accuracy: 0.9291 - val_loss: 0.8617 - val_accuracy: 0.9193\n",
      "Epoch 3/50\n",
      "2765/2765 - 263s - loss: 0.8637 - accuracy: 0.9350 - val_loss: 1.1061 - val_accuracy: 0.8315\n",
      "Epoch 4/50\n",
      "2765/2765 - 265s - loss: 0.8209 - accuracy: 0.9374 - val_loss: 0.8897 - val_accuracy: 0.8868\n",
      "Epoch 5/50\n",
      "2765/2765 - 268s - loss: 0.7948 - accuracy: 0.9397 - val_loss: 0.8990 - val_accuracy: 0.8753\n",
      "Epoch 6/50\n",
      "2765/2765 - 266s - loss: 0.7758 - accuracy: 0.9414 - val_loss: 0.9228 - val_accuracy: 0.8586\n",
      "Epoch 7/50\n",
      "2765/2765 - 267s - loss: 0.7600 - accuracy: 0.9424 - val_loss: 0.8393 - val_accuracy: 0.8837\n",
      "Epoch 8/50\n",
      "2765/2765 - 262s - loss: 0.7458 - accuracy: 0.9440 - val_loss: 0.8934 - val_accuracy: 0.8645\n",
      "Epoch 9/50\n",
      "2765/2765 - 264s - loss: 0.7335 - accuracy: 0.9455 - val_loss: 0.8134 - val_accuracy: 0.9058\n",
      "Epoch 10/50\n",
      "2765/2765 - 271s - loss: 0.7233 - accuracy: 0.9466 - val_loss: 0.8101 - val_accuracy: 0.9098\n",
      "Epoch 11/50\n",
      "2765/2765 - 268s - loss: 0.7132 - accuracy: 0.9483 - val_loss: 0.7846 - val_accuracy: 0.9134\n",
      "Epoch 12/50\n",
      "2765/2765 - 261s - loss: 0.7038 - accuracy: 0.9492 - val_loss: 0.7591 - val_accuracy: 0.9419\n",
      "Epoch 13/50\n",
      "2765/2765 - 261s - loss: 0.6957 - accuracy: 0.9508 - val_loss: 0.7696 - val_accuracy: 0.9487\n",
      "Epoch 14/50\n",
      "2765/2765 - 264s - loss: 0.6912 - accuracy: 0.9520 - val_loss: 0.7661 - val_accuracy: 0.9283\n",
      "Epoch 15/50\n",
      "2765/2765 - 267s - loss: 0.6844 - accuracy: 0.9526 - val_loss: 0.7483 - val_accuracy: 0.9419\n",
      "Epoch 16/50\n",
      "2765/2765 - 267s - loss: 0.6750 - accuracy: 0.9535 - val_loss: 0.7632 - val_accuracy: 0.9489\n",
      "Epoch 17/50\n",
      "2765/2765 - 261s - loss: 0.6730 - accuracy: 0.9546 - val_loss: 0.7482 - val_accuracy: 0.9632\n",
      "Epoch 18/50\n",
      "2765/2765 - 260s - loss: 0.6697 - accuracy: 0.9553 - val_loss: 0.7308 - val_accuracy: 0.9606\n",
      "Epoch 19/50\n",
      "2765/2765 - 260s - loss: 0.6614 - accuracy: 0.9567 - val_loss: 0.7245 - val_accuracy: 0.9558\n",
      "Epoch 20/50\n",
      "2765/2765 - 260s - loss: 0.6572 - accuracy: 0.9567 - val_loss: 0.7487 - val_accuracy: 0.9471\n",
      "Epoch 21/50\n",
      "2765/2765 - 260s - loss: 0.6503 - accuracy: 0.9572 - val_loss: 0.7390 - val_accuracy: 0.9585\n",
      "Epoch 22/50\n",
      "2765/2765 - 260s - loss: 0.6525 - accuracy: 0.9572 - val_loss: 0.7588 - val_accuracy: 0.9587\n",
      "Epoch 23/50\n",
      "2765/2765 - 260s - loss: 0.6465 - accuracy: 0.9577 - val_loss: 0.7417 - val_accuracy: 0.9611\n",
      "Epoch 24/50\n",
      "2765/2765 - 261s - loss: 0.6447 - accuracy: 0.9580 - val_loss: 0.7252 - val_accuracy: 0.9592\n",
      "Epoch 25/50\n",
      "2765/2765 - 261s - loss: 0.6389 - accuracy: 0.9591 - val_loss: 0.7395 - val_accuracy: 0.9565\n",
      "Epoch 26/50\n",
      "2765/2765 - 260s - loss: 0.6383 - accuracy: 0.9593 - val_loss: 0.7368 - val_accuracy: 0.9630\n",
      "Epoch 27/50\n",
      "2765/2765 - 261s - loss: 0.6314 - accuracy: 0.9597 - val_loss: 0.7550 - val_accuracy: 0.9639\n",
      "Epoch 28/50\n",
      "2765/2765 - 268s - loss: 0.6312 - accuracy: 0.9601 - val_loss: 0.7432 - val_accuracy: 0.9629\n",
      "Epoch 29/50\n",
      "2765/2765 - 266s - loss: 0.6272 - accuracy: 0.9605 - val_loss: 0.7404 - val_accuracy: 0.9647\n",
      "Epoch 30/50\n",
      "2765/2765 - 267s - loss: 0.6255 - accuracy: 0.9605 - val_loss: 0.7184 - val_accuracy: 0.9602\n",
      "Epoch 31/50\n",
      "2765/2765 - 265s - loss: 0.6223 - accuracy: 0.9608 - val_loss: 0.7353 - val_accuracy: 0.9576\n",
      "Epoch 32/50\n",
      "2765/2765 - 270s - loss: 0.6201 - accuracy: 0.9615 - val_loss: 0.7318 - val_accuracy: 0.9660\n",
      "Epoch 33/50\n",
      "2765/2765 - 266s - loss: 0.6196 - accuracy: 0.9615 - val_loss: 0.7171 - val_accuracy: 0.9666\n",
      "Epoch 34/50\n",
      "2765/2765 - 266s - loss: 0.6153 - accuracy: 0.9618 - val_loss: 0.7144 - val_accuracy: 0.9625\n",
      "Epoch 35/50\n",
      "2765/2765 - 263s - loss: 0.6133 - accuracy: 0.9618 - val_loss: 0.7238 - val_accuracy: 0.9674\n",
      "Epoch 36/50\n",
      "2765/2765 - 266s - loss: 0.6113 - accuracy: 0.9623 - val_loss: 0.7303 - val_accuracy: 0.9657\n",
      "Epoch 37/50\n",
      "2765/2765 - 268s - loss: 0.6084 - accuracy: 0.9627 - val_loss: 0.7283 - val_accuracy: 0.9639\n",
      "Epoch 38/50\n",
      "2765/2765 - 427s - loss: 0.6094 - accuracy: 0.9623 - val_loss: 0.7122 - val_accuracy: 0.9662\n",
      "Epoch 39/50\n",
      "2765/2765 - 265s - loss: 0.6045 - accuracy: 0.9627 - val_loss: 0.7328 - val_accuracy: 0.9678\n",
      "Epoch 40/50\n",
      "2765/2765 - 268s - loss: 0.6001 - accuracy: 0.9635 - val_loss: 0.7416 - val_accuracy: 0.9661\n",
      "Epoch 41/50\n",
      "2765/2765 - 268s - loss: 0.6018 - accuracy: 0.9639 - val_loss: 0.7260 - val_accuracy: 0.9669\n",
      "Epoch 42/50\n",
      "2765/2765 - 271s - loss: 0.5993 - accuracy: 0.9638 - val_loss: 0.7514 - val_accuracy: 0.9672\n",
      "Epoch 43/50\n",
      "2765/2765 - 269s - loss: 0.5983 - accuracy: 0.9638 - val_loss: 0.7519 - val_accuracy: 0.9672\n",
      "Epoch 44/50\n",
      "2765/2765 - 268s - loss: 0.5975 - accuracy: 0.9638 - val_loss: 0.7422 - val_accuracy: 0.9677\n",
      "Epoch 45/50\n",
      "2765/2765 - 275s - loss: 0.5956 - accuracy: 0.9643 - val_loss: 0.7295 - val_accuracy: 0.9676\n",
      "Epoch 46/50\n",
      "2765/2765 - 270s - loss: 0.5920 - accuracy: 0.9648 - val_loss: 0.7111 - val_accuracy: 0.9663\n",
      "Epoch 47/50\n",
      "2765/2765 - 271s - loss: 0.5933 - accuracy: 0.9646 - val_loss: 0.7620 - val_accuracy: 0.9677\n",
      "Epoch 48/50\n",
      "2765/2765 - 270s - loss: 0.5920 - accuracy: 0.9652 - val_loss: 0.7261 - val_accuracy: 0.9631\n",
      "Epoch 49/50\n",
      "2765/2765 - 272s - loss: 0.5898 - accuracy: 0.9650 - val_loss: 0.7644 - val_accuracy: 0.9678\n",
      "Epoch 50/50\n",
      "2765/2765 - 273s - loss: 0.5883 - accuracy: 0.9653 - val_loss: 0.7330 - val_accuracy: 0.9681\n"
     ]
    }
   ],
   "source": [
    "r = model.fit(aug.flow(trainX, trainY, batch_size=BS),validation_data=(testX, testY),steps_per_epoch=len(trainX) // BS,epochs=EPOCHS,class_weight=classWeight,verbose = 2)"
   ]
  },
  {
   "cell_type": "code",
   "execution_count": 14,
   "metadata": {},
   "outputs": [
    {
     "data": {
      "image/png": "[encoded data removed]",
      "text/plain": [
       "<Figure size 432x288 with 1 Axes>"
      ]
     },
     "metadata": {},
     "output_type": "display_data"
    }
   ],
   "source": [
    "plt.plot(r.history[\"loss\"], label= \"Loss\")\n",
    "plt.plot(r.history[\"val_loss\"], label = \"val_Loss\")\n",
    "plt.legend();"
   ]
  },
  {
   "cell_type": "code",
   "execution_count": 15,
   "metadata": {},
   "outputs": [
    {
     "data": {
      "image/png": "[encoded data removed]",
      "text/plain": [
       "<Figure size 432x288 with 1 Axes>"
      ]
     },
     "metadata": {},
     "output_type": "display_data"
    }
   ],
   "source": [
    "plt.plot(r.history[\"accuracy\"] ,label = \"Accuracy\")\n",
    "plt.plot(r.history[\"val_accuracy\"] ,label = \"Val_Accuracy\")\n",
    "plt.legend();"
   ]
  },
  {
   "cell_type": "code",
   "execution_count": 16,
   "metadata": {},
   "outputs": [
    {
     "data": {
      "text/plain": [
       "<AxesSubplot:>"
      ]
     },
     "execution_count": 16,
     "metadata": {},
     "output_type": "execute_result"
    },
    {
     "data": {
      "image/png": "[encoded data removed]",
      "text/plain": [
       "<Figure size 432x288 with 1 Axes>"
      ]
     },
     "metadata": {},
     "output_type": "display_data"
    }
   ],
   "source": [
    "pd.DataFrame(r.history).plot()"
   ]
  },
  {
   "cell_type": "code",
   "execution_count": 51,
   "metadata": {},
   "outputs": [
    {
     "name": "stdout",
     "output_type": "stream",
     "text": [
      "              precision    recall  f1-score   support\n",
      "\n",
      "           0       0.62      0.51      0.56      1381\n",
      "           1       0.98      0.98      0.98      1575\n",
      "           2       0.94      0.95      0.94      1398\n",
      "           3       0.98      0.99      0.99      1428\n",
      "           4       0.93      0.98      0.95      1365\n",
      "           5       0.78      0.94      0.85      1263\n",
      "           6       0.97      0.98      0.97      1375\n",
      "           7       0.97      0.99      0.98      1459\n",
      "           8       0.97      0.99      0.98      1365\n",
      "           9       0.99      0.98      0.99      1392\n",
      "           A       1.00      0.99      0.99      2774\n",
      "           B       0.98      0.98      0.98      1734\n",
      "           C       0.99      0.99      0.99      4682\n",
      "           D       0.90      0.98      0.94      2027\n",
      "           E       0.99      0.99      0.99      2288\n",
      "           F       0.97      0.99      0.98       232\n",
      "           G       0.97      0.96      0.97      1152\n",
      "           H       0.98      0.97      0.98      1444\n",
      "           I       0.99      0.99      0.99       224\n",
      "           J       0.98      0.97      0.97      1699\n",
      "           K       0.97      0.99      0.98      1121\n",
      "           L       0.98      0.99      0.98      2317\n",
      "           M       0.99      1.00      0.99      2467\n",
      "           N       0.99      0.99      0.99      3802\n",
      "           O       0.94      0.94      0.94     11565\n",
      "           P       1.00      0.99      0.99      3868\n",
      "           Q       0.97      0.98      0.98      1162\n",
      "           R       0.99      0.99      0.99      2313\n",
      "           S       0.99      0.96      0.98      9684\n",
      "           T       1.00      0.99      0.99      4499\n",
      "           U       0.98      0.99      0.99      5802\n",
      "           V       0.96      1.00      0.98       836\n",
      "           W       0.98      0.99      0.99      2157\n",
      "           X       0.98      0.99      0.99      1254\n",
      "           Y       0.99      0.95      0.97      2172\n",
      "           Z       0.94      0.96      0.95      1215\n",
      "\n",
      "    accuracy                           0.97     88491\n",
      "   macro avg       0.96      0.97      0.96     88491\n",
      "weighted avg       0.97      0.97      0.97     88491\n",
      "\n"
     ]
    }
   ],
   "source": [
    "labelNames = \"0123456789\"\n",
    "labelNames += \"ABCDEFGHIJKLMNOPQRSTUVWXYZ\"\n",
    "labelNames = [l for l in labelNames]\n",
    "preds = model.predict(testX, batch_size=BS)\n",
    "print(classification_report(testY.argmax(axis=1),preds.argmax(axis=1), target_names=labelNames))"
   ]
  },
  {
   "cell_type": "markdown",
   "metadata": {},
   "source": [
    "## Saving Model"
   ]
  },
  {
   "cell_type": "code",
   "execution_count": 52,
   "metadata": {},
   "outputs": [],
   "source": [
    "model.save(\"model.h5\")"
   ]
  }
 ],
 "metadata": {
  "kernelspec": {
   "display_name": "Python 3",
   "language": "python",
   "name": "python3"
  }
 },
 "nbformat": 4,
 "nbformat_minor": 4
}
