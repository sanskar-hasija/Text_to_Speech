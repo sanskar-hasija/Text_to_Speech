{
 "cells": [
  {
   "cell_type": "markdown",
   "metadata": {},
   "source": [
    "# Importing libraries"
   ]
  },
  {
   "cell_type": "code",
   "execution_count": 11,
   "metadata": {
    "scrolled": true
   },
   "outputs": [],
   "source": [
    "#Common Lib.\n",
    "import os\n",
    "import cv2\n",
    "import random\n",
    "import numpy as np\n",
    "import pandas as pd\n",
    "import matplotlib.pyplot as plt\n",
    "import datetime\n",
    "\n",
    "\n",
    "\n",
    "#Deep Learning Lib / IMage to text\n",
    "from tensorflow.keras.models import load_model\n",
    "from imutils.contours import sort_contours\n",
    "import imutils\n",
    "from PIL import Image, ImageEnhance, ImageFilter\n",
    "from IPython.display import clear_output\n",
    "import pytesseract\n",
    "# pytesseract.pytesseract.tesseract_cmd = r\"C:\\Program Files\\Tesseract-OCR\\tesseract.exe\"  # Location of tesseract folder\n",
    "\n",
    "\n",
    "#Text to Speech Lib\n",
    "\n",
    "from gtts import gTTS \n",
    "import googletrans\n",
    "from googletrans import Translator, constants\n",
    "from playsound import playsound "
   ]
  },
  {
   "cell_type": "code",
   "execution_count": 10,
   "metadata": {},
   "outputs": [
    {
     "name": "stdout",
     "output_type": "stream",
     "text": [
      "Collecting pytesseract\n",
      "  Downloading pytesseract-0.3.7.tar.gz (13 kB)\n",
      "Requirement already satisfied: Pillow in c:\\users\\sansk\\anaconda3\\envs\\gpu\\lib\\site-packages (from pytesseract) (8.1.0)\n",
      "Building wheels for collected packages: pytesseract\n",
      "  Building wheel for pytesseract (setup.py): started\n",
      "  Building wheel for pytesseract (setup.py): finished with status 'done'\n",
      "  Created wheel for pytesseract: filename=pytesseract-0.3.7-py2.py3-none-any.whl size=13945 sha256=fa9edf87113ad0254227b61a373149263fa786167efe6012800cf3429db8909d\n",
      "  Stored in directory: c:\\users\\sansk\\appdata\\local\\pip\\cache\\wheels\\c1\\ca\\d1\\14e0dabe6f772bb5b45e006111268d943d4196fcb8798e3bf8\n",
      "Successfully built pytesseract\n",
      "Installing collected packages: pytesseract\n",
      "Successfully installed pytesseract-0.3.7\n",
      "Note: you may need to restart the kernel to use updated packages.\n"
     ]
    }
   ],
   "source": [
    "pip install pytesseract"
   ]
  },
  {
   "cell_type": "markdown",
   "metadata": {},
   "source": [
    "## Image type selection "
   ]
  },
  {
   "cell_type": "code",
   "execution_count": 12,
   "metadata": {
    "scrolled": true
   },
   "outputs": [],
   "source": [
    "def image_selection():\n",
    "    selection = input(\"Select image type : \\n 1.Handwritten Text \\n 2.Document\\n \")\n",
    "    return int(selection)"
   ]
  },
  {
   "cell_type": "markdown",
   "metadata": {},
   "source": [
    "## Image capture through WEBCAM"
   ]
  },
  {
   "cell_type": "code",
   "execution_count": 13,
   "metadata": {
    "scrolled": true
   },
   "outputs": [],
   "source": [
    "def capture_image():\n",
    "    cam = cv2.VideoCapture(0)\n",
    "    cv2.namedWindow(\"test\")\n",
    "\n",
    "    img_counter = 0\n",
    "\n",
    "    while True :\n",
    "        ret, frame = cam.read()\n",
    "        if not ret:\n",
    "            print(\"failed to grab frame\")\n",
    "            break\n",
    "        cv2.imshow(\"test\", frame)\n",
    "\n",
    "        k = cv2.waitKey(1)\n",
    "        if k%256 == 27:\n",
    "            # ESC pressed\n",
    "            print(\"Escape hit, closing...\")\n",
    "            break\n",
    "        elif k%256 == 32:\n",
    "            # SPACE pressed\n",
    "           # img_name = (\"captured-\"+ date_string + \".jpg\")\n",
    "            date_string = datetime.datetime.now().strftime(\"%Y-%m-%d-%H-%M\")\n",
    "#             print(date_string)\n",
    "            img_dir = \"./captured_images/captured{}.jpg\".format(date_string)\n",
    "            cv2.imwrite(img_dir , frame)\n",
    "           # print(\"{} written!\")\n",
    "            img_counter += 1\n",
    "            if (img_counter == 1):\n",
    "                break\n",
    "\n",
    "    cam.release()\n",
    "    cv2.destroyAllWindows()\n",
    "    \n",
    "    return img_dir"
   ]
  },
  {
   "cell_type": "markdown",
   "metadata": {},
   "source": [
    "## Image conversion to text"
   ]
  },
  {
   "cell_type": "code",
   "execution_count": 14,
   "metadata": {
    "scrolled": true
   },
   "outputs": [],
   "source": [
    "def image_conversion(img_dir):\n",
    "\n",
    "    img = cv2.imread(img_dir)\n",
    "    text = pytesseract.image_to_string(img)\n",
    "    \n",
    "    return text"
   ]
  },
  {
   "cell_type": "markdown",
   "metadata": {},
   "source": [
    "## Language Codes Dataframe"
   ]
  },
  {
   "cell_type": "code",
   "execution_count": 15,
   "metadata": {
    "scrolled": true
   },
   "outputs": [],
   "source": [
    "dict_lan = googletrans.LANGCODES\n",
    "df = pd.DataFrame.from_dict(dict_lan, orient='index' , columns=[\"Language Code\" ] )\n",
    "code=np.arange(1,107,1)\n",
    "df[\"Code\"]=code\n",
    "#df.to_csv(\"./Languages_code.csv\")"
   ]
  },
  {
   "cell_type": "code",
   "execution_count": 16,
   "metadata": {
    "scrolled": true
   },
   "outputs": [],
   "source": [
    "def language_codes():\n",
    "    os.startfile(\"Languages_code.csv\")"
   ]
  },
  {
   "cell_type": "markdown",
   "metadata": {},
   "source": [
    "## Language Selector"
   ]
  },
  {
   "cell_type": "code",
   "execution_count": 17,
   "metadata": {
    "scrolled": true
   },
   "outputs": [],
   "source": [
    "def lan_selector(code):\n",
    "    temp_list = list(dict_lan.values())\n",
    "    if code == 0:\n",
    "        lan = temp_list[0]\n",
    "    else:\n",
    "        lan = temp_list[code-1]\n",
    "    return lan"
   ]
  },
  {
   "cell_type": "markdown",
   "metadata": {},
   "source": [
    "## Text Translation"
   ]
  },
  {
   "cell_type": "code",
   "execution_count": 18,
   "metadata": {
    "scrolled": true
   },
   "outputs": [],
   "source": [
    "def text_translator(text ,lan ):\n",
    "    translator = Translator()\n",
    "    translated = translator.translate(text ,dest = lan)\n",
    "    translated_text = translated.text\n",
    "\n",
    "    return translated_text"
   ]
  },
  {
   "cell_type": "code",
   "execution_count": 19,
   "metadata": {
    "scrolled": true
   },
   "outputs": [],
   "source": [
    "def display_text(text):\n",
    "    print(text)"
   ]
  },
  {
   "cell_type": "markdown",
   "metadata": {},
   "source": [
    "## Saving And Playing audio"
   ]
  },
  {
   "cell_type": "code",
   "execution_count": 20,
   "metadata": {
    "scrolled": true
   },
   "outputs": [],
   "source": [
    "# Check language\n",
    "def save_tran_text(translated_text,lan):\n",
    "    date_string = datetime.datetime.now().strftime(\"%Y-%m-%d-%H-%M\")\n",
    "    saved = gTTS(text = translated_text,lang =lan) \n",
    "    sound_dir = \"./saved_sounds/Translated-{}.mp3\".format(date_string)\n",
    "    saved.save(sound_dir)\n",
    "    return sound_dir"
   ]
  },
  {
   "cell_type": "code",
   "execution_count": 21,
   "metadata": {
    "scrolled": true
   },
   "outputs": [],
   "source": [
    "def sound_playback(sound_dir):\n",
    "    playsound(sound_dir)"
   ]
  },
  {
   "cell_type": "markdown",
   "metadata": {},
   "source": [
    "## Handwritten Text Detection"
   ]
  },
  {
   "cell_type": "code",
   "execution_count": 22,
   "metadata": {
    "scrolled": true
   },
   "outputs": [],
   "source": [
    "def handwritten_text(image):\n",
    "    handwritten_model = load_model(\"saveed_model\")\n",
    "    image = cv2.imread(image)\n",
    "#     # IMAGES for clarification\n",
    "#     cv2.imshow(\"Orignal Image \", image)\n",
    "#     cv2.waitKey(0)\n",
    "#     gray = cv2.cvtColor(image, cv2.COLOR_BGR2GRAY)\n",
    "#     cv2.imshow(\"image after grayscale\", gray)\n",
    "#     cv2.waitKey(0)\n",
    "#     blurred = cv2.GaussianBlur(gray, (5, 5), 0)\n",
    "#     cv2.imshow(\"image after blurring\", blurred)\n",
    "#     cv2.waitKey(0)\n",
    "#     edged = cv2.Canny(blurred, 30, 150)\n",
    "#     cv2.imshow(\"image after edge-detection\", edged)\n",
    "#     cv2.waitKey(0)\n",
    "#     cv2.destroyAllWindows()\n",
    "    \n",
    "    \n",
    "    \n",
    "    gray = cv2.cvtColor(image, cv2.COLOR_BGR2GRAY)\n",
    "    blurred = cv2.GaussianBlur(gray, (5, 5), 0)\n",
    "    edged = cv2.Canny(blurred, 30, 150)\n",
    "    cnts = cv2.findContours(edged.copy(), cv2.RETR_EXTERNAL,cv2.CHAIN_APPROX_SIMPLE)\n",
    "    cnts = imutils.grab_contours(cnts)\n",
    "    cnts = sort_contours(cnts, method=\"left-to-right\")[0]\n",
    "    \n",
    "    chars = []\n",
    "    chars_alt = []\n",
    "    for c in cnts:\n",
    "        (x, y, w, h) = cv2.boundingRect(c)      # compute the bounding box of the contour\n",
    "        if (w >= 5 and w <= 150) and (h >= 15 and h <= 120):\n",
    "            roi = gray[y:y + h, x:x + w]\n",
    "            thresh = cv2.threshold(roi, 0, 255,cv2.THRESH_BINARY_INV | cv2.THRESH_OTSU)[1]\n",
    "            (tH, tW) = thresh.shape\n",
    "            \n",
    "            if tW > tH:\n",
    "                thresh = imutils.resize(thresh, width=32)\n",
    "            else :\n",
    "                thresh = imutils.resize(thresh, width=32)\n",
    "                \n",
    "            (tH, tW) = thresh.shape  #Updated shape\n",
    "            dX = int(max(0, 32 - tW) / 2.0)\n",
    "            dY = int(max(0, 32 - tH) / 2.0)\n",
    "            padded = cv2.copyMakeBorder(thresh, top=dY, bottom=dY,left=dX, right=dX,\n",
    "                                        borderType=cv2.BORDER_CONSTANT, value=(0, 0, 0))\n",
    "            padded = cv2.resize(padded, (32, 32))\n",
    "            padded = padded.astype(\"float32\") / 255.0\n",
    "            padded = np.expand_dims(padded, axis=-1)\n",
    "            chars_alt.append((padded, (x, y, w, h)))\n",
    "            chars= np.array(chars_alt)\n",
    "            #chars = np.array(chara)\n",
    "            \n",
    "            boxes = [b[1] for b in chars]\n",
    "            chars = np.array([c[0] for c in chars], dtype=\"float32\")\n",
    "            preds = handwritten_model.predict(chars)\n",
    "            \n",
    "            \n",
    "            \n",
    "            labelNames = \"0123456789\"\n",
    "            labelNames += \"ABCDEFGHIJKLMNOPQRSTUVWXYZ\"\n",
    "            labelNames = [l for l in labelNames]\n",
    "            output_string = \"\"\n",
    "            probi=[]\n",
    "            for (pred, (x, y, w, h)) in zip(preds, boxes):\n",
    "                i = np.argmax(pred)\n",
    "                prob = pred[i]\n",
    "                label = labelNames[i]\n",
    "                output_string += labelNames[i]\n",
    "                probi.append(pred[i]*100)                \n",
    "                #print(\"[INFO] {} - {:.2f}%\".format(label, prob * 100))\n",
    "                cv2.rectangle(image, (x, y), (x + w, y + h), (0, 255, 0), 2)\n",
    "                cv2.putText(image, label, (x - 10, y - 10),\n",
    "                            cv2.FONT_HERSHEY_SIMPLEX, 1.2, (0, 255, 0), 2)\n",
    "                #cv2.imshow(\"Image with contours\", image)\n",
    "                #cv2.waitKey(0)\n",
    "            cv2.imshow(\"Final Image\",image)\n",
    "            cv2.waitKey(0)\n",
    "            \n",
    "#     cv2.imshow(\"Final Image_\",image)\n",
    "#     cv2.waitKey(0)\n",
    "    cv2.destroyAllWindows()\n",
    "    print(\"The accuracies are :\")\n",
    "    for i in range(len(probi)):\n",
    "        print(\"{} = {:.2f}%\".format(output_string[i],float(probi[i])))\n",
    "    return output_string        "
   ]
  },
  {
   "cell_type": "markdown",
   "metadata": {},
   "source": [
    "# Main Function "
   ]
  },
  {
   "cell_type": "code",
   "execution_count": 23,
   "metadata": {
    "scrolled": true
   },
   "outputs": [
    {
     "ename": "OSError",
     "evalue": "SavedModel file does not exist at: saveed_model/{saved_model.pbtxt|saved_model.pb}",
     "output_type": "error",
     "traceback": [
      "\u001b[1;31m---------------------------------------------------------------------------\u001b[0m",
      "\u001b[1;31mOSError\u001b[0m                                   Traceback (most recent call last)",
      "\u001b[1;32m<ipython-input-23-f14630c49faa>\u001b[0m in \u001b[0;36m<module>\u001b[1;34m\u001b[0m\n\u001b[0;32m     10\u001b[0m     \u001b[1;32mif\u001b[0m \u001b[0mimg_type\u001b[0m \u001b[1;33m==\u001b[0m \u001b[1;36m1\u001b[0m\u001b[1;33m:\u001b[0m\u001b[1;33m\u001b[0m\u001b[1;33m\u001b[0m\u001b[0m\n\u001b[0;32m     11\u001b[0m         \u001b[0mimg_dir\u001b[0m \u001b[1;33m=\u001b[0m \u001b[0mcapture_image\u001b[0m\u001b[1;33m(\u001b[0m\u001b[1;33m)\u001b[0m\u001b[1;33m\u001b[0m\u001b[1;33m\u001b[0m\u001b[0m\n\u001b[1;32m---> 12\u001b[1;33m         \u001b[0moutput\u001b[0m \u001b[1;33m=\u001b[0m \u001b[0mhandwritten_text\u001b[0m\u001b[1;33m(\u001b[0m\u001b[0mimg_dir\u001b[0m\u001b[1;33m)\u001b[0m\u001b[1;33m\u001b[0m\u001b[1;33m\u001b[0m\u001b[0m\n\u001b[0m\u001b[0;32m     13\u001b[0m         \u001b[0mprint\u001b[0m\u001b[1;33m(\u001b[0m\u001b[1;34m\"The text detected is {}\"\u001b[0m\u001b[1;33m.\u001b[0m\u001b[0mformat\u001b[0m\u001b[1;33m(\u001b[0m\u001b[0moutput\u001b[0m\u001b[1;33m)\u001b[0m\u001b[1;33m)\u001b[0m\u001b[1;33m\u001b[0m\u001b[1;33m\u001b[0m\u001b[0m\n\u001b[0;32m     14\u001b[0m \u001b[1;33m\u001b[0m\u001b[0m\n",
      "\u001b[1;32m<ipython-input-22-16632698d403>\u001b[0m in \u001b[0;36mhandwritten_text\u001b[1;34m(image)\u001b[0m\n\u001b[0;32m      1\u001b[0m \u001b[1;32mdef\u001b[0m \u001b[0mhandwritten_text\u001b[0m\u001b[1;33m(\u001b[0m\u001b[0mimage\u001b[0m\u001b[1;33m)\u001b[0m\u001b[1;33m:\u001b[0m\u001b[1;33m\u001b[0m\u001b[1;33m\u001b[0m\u001b[0m\n\u001b[1;32m----> 2\u001b[1;33m     \u001b[0mhandwritten_model\u001b[0m \u001b[1;33m=\u001b[0m \u001b[0mload_model\u001b[0m\u001b[1;33m(\u001b[0m\u001b[1;34m\"saveed_model\"\u001b[0m\u001b[1;33m)\u001b[0m\u001b[1;33m\u001b[0m\u001b[1;33m\u001b[0m\u001b[0m\n\u001b[0m\u001b[0;32m      3\u001b[0m     \u001b[0mimage\u001b[0m \u001b[1;33m=\u001b[0m \u001b[0mcv2\u001b[0m\u001b[1;33m.\u001b[0m\u001b[0mimread\u001b[0m\u001b[1;33m(\u001b[0m\u001b[0mimage\u001b[0m\u001b[1;33m)\u001b[0m\u001b[1;33m\u001b[0m\u001b[1;33m\u001b[0m\u001b[0m\n\u001b[0;32m      4\u001b[0m \u001b[1;31m#     # IMAGES for clarification\u001b[0m\u001b[1;33m\u001b[0m\u001b[1;33m\u001b[0m\u001b[1;33m\u001b[0m\u001b[0m\n\u001b[0;32m      5\u001b[0m \u001b[1;31m#     cv2.imshow(\"Orignal Image \", image)\u001b[0m\u001b[1;33m\u001b[0m\u001b[1;33m\u001b[0m\u001b[1;33m\u001b[0m\u001b[0m\n",
      "\u001b[1;32m~\\anaconda3\\envs\\gpu\\lib\\site-packages\\tensorflow_core\\python\\keras\\saving\\save.py\u001b[0m in \u001b[0;36mload_model\u001b[1;34m(filepath, custom_objects, compile)\u001b[0m\n\u001b[0;32m    147\u001b[0m \u001b[1;33m\u001b[0m\u001b[0m\n\u001b[0;32m    148\u001b[0m   \u001b[1;32mif\u001b[0m \u001b[0misinstance\u001b[0m\u001b[1;33m(\u001b[0m\u001b[0mfilepath\u001b[0m\u001b[1;33m,\u001b[0m \u001b[0msix\u001b[0m\u001b[1;33m.\u001b[0m\u001b[0mstring_types\u001b[0m\u001b[1;33m)\u001b[0m\u001b[1;33m:\u001b[0m\u001b[1;33m\u001b[0m\u001b[1;33m\u001b[0m\u001b[0m\n\u001b[1;32m--> 149\u001b[1;33m     \u001b[0mloader_impl\u001b[0m\u001b[1;33m.\u001b[0m\u001b[0mparse_saved_model\u001b[0m\u001b[1;33m(\u001b[0m\u001b[0mfilepath\u001b[0m\u001b[1;33m)\u001b[0m\u001b[1;33m\u001b[0m\u001b[1;33m\u001b[0m\u001b[0m\n\u001b[0m\u001b[0;32m    150\u001b[0m     \u001b[1;32mreturn\u001b[0m \u001b[0msaved_model_load\u001b[0m\u001b[1;33m.\u001b[0m\u001b[0mload\u001b[0m\u001b[1;33m(\u001b[0m\u001b[0mfilepath\u001b[0m\u001b[1;33m,\u001b[0m \u001b[0mcompile\u001b[0m\u001b[1;33m)\u001b[0m\u001b[1;33m\u001b[0m\u001b[1;33m\u001b[0m\u001b[0m\n\u001b[0;32m    151\u001b[0m \u001b[1;33m\u001b[0m\u001b[0m\n",
      "\u001b[1;32m~\\anaconda3\\envs\\gpu\\lib\\site-packages\\tensorflow_core\\python\\saved_model\\loader_impl.py\u001b[0m in \u001b[0;36mparse_saved_model\u001b[1;34m(export_dir)\u001b[0m\n\u001b[0;32m     81\u001b[0m                   (export_dir,\n\u001b[0;32m     82\u001b[0m                    \u001b[0mconstants\u001b[0m\u001b[1;33m.\u001b[0m\u001b[0mSAVED_MODEL_FILENAME_PBTXT\u001b[0m\u001b[1;33m,\u001b[0m\u001b[1;33m\u001b[0m\u001b[1;33m\u001b[0m\u001b[0m\n\u001b[1;32m---> 83\u001b[1;33m                    constants.SAVED_MODEL_FILENAME_PB))\n\u001b[0m\u001b[0;32m     84\u001b[0m \u001b[1;33m\u001b[0m\u001b[0m\n\u001b[0;32m     85\u001b[0m \u001b[1;33m\u001b[0m\u001b[0m\n",
      "\u001b[1;31mOSError\u001b[0m: SavedModel file does not exist at: saveed_model/{saved_model.pbtxt|saved_model.pb}"
     ]
    }
   ],
   "source": [
    "selection = image_selection()\n",
    "if selection == 1:   \n",
    "    clear_output()        # CLEAR SCREEN\n",
    "    \n",
    "    img_type = input(\"Image selection \\n For webcam selection press 1 \\n For file Directory press 2\\n\" ) \n",
    "    img_type = int(img_type)\n",
    "    \n",
    "    clear_output()        # CLEAR SCREEN\n",
    "    \n",
    "    if img_type == 1:\n",
    "        img_dir = capture_image()\n",
    "        output = handwritten_text(img_dir)\n",
    "        print(\"The text detected is {}\".format(output))\n",
    "        \n",
    "    elif img_type==2:\n",
    "        img_dir= input(\"Enter Image directory\")\n",
    "        clear_output()        # CLEAR SCREEN\n",
    "        output = handwritten_text(img_dir)\n",
    "        print(\"The text detected is {}\".format(output)) \n",
    "elif selection == 2:    \n",
    "    clear_output()        # CLEAR SCREEN      \n",
    "    img_type = input(\"Image selection \\n For webcam selection press 1 \\n For file Directory press 2\\n\" ) \n",
    "    img_type = int(img_type)\n",
    "    \n",
    "    clear_output()        # CLEAR SCREEN\n",
    "    \n",
    "    if img_type == 1:\n",
    "        img_dir = capture_image()\n",
    "        print(img_dir)\n",
    "        \n",
    "        clear_output()        # CLEAR SCREEN\n",
    "        \n",
    "        text = image_conversion(img_dir)\n",
    "        print(\"Text Detected\")\n",
    "        display_text(text)\n",
    "        language_codes()\n",
    "        print(\"Check for language code in the csv file just loaded!!!!\")\n",
    "        code = input(\"Enter language code for translation\\n\")\n",
    "        \n",
    "        clear_output()        # CLEAR SCREEN\n",
    "        \n",
    "        lan = lan_selector(int(code))\n",
    "        translated_text = text_translator(text,lan)\n",
    "        print(translated_text)    \n",
    "        print(\"Do you want to hear the translated text\")\n",
    "        \n",
    "        clear_output()        # CLEAR SCREEN\n",
    "        \n",
    "        i = input(\"Press 1 for yes \\nPress 2 for no\\n\")\n",
    "        i = int(i)\n",
    "        \n",
    "        clear_output()        # CLEAR SCREEN\n",
    "        \n",
    "        if i ==1:\n",
    "            print(\"Please Wait......Translating\")\n",
    "            sound_dir = save_tran_text(translated_text,lan)\n",
    "            \n",
    "            clear_output()        # CLEAR SCREEN\n",
    "            \n",
    "            sound_dir_loc=sound_dir[1:]\n",
    "            print(\"Your translated sound is also saved at C:/Users/Desktop/project{}\\nEND\".format(sound_dir_loc))\n",
    "            \n",
    "            playsound(sound_dir)\n",
    "        else:\n",
    "            print(\"Thanks.....END!!!\")\n",
    "        \n",
    "    elif img_type == 2 :\n",
    "        img_dir = input(\"Enter Image path\\n\")\n",
    "        text = image_conversion(img_dir)\n",
    "        \n",
    "        clear_output()        # CLEAR SCREEN\n",
    "        \n",
    "        print(\"Text Detected\")\n",
    "        display_text(text)\n",
    "        language_codes()\n",
    "        print(\"Check for language code in the csv file just loaded!!!!\")\n",
    "        code = input(\"Enter language code for translation\\n\")\n",
    "        \n",
    "        clear_output()        # CLEAR SCREEN\n",
    "        \n",
    "        lan = lan_selector(int(code))\n",
    "        translated_text = text_translator(text,lan)\n",
    "        print(translated_text)\n",
    "        print(\"Do you want to hear the translated text\")\n",
    "        i = input(\"Press 1 for yes \\nPress 2 for no\\n\")\n",
    "        i = int(i)\n",
    "        \n",
    "        clear_output()        # CLEAR SCREEN\n",
    "        \n",
    "        if i ==1:\n",
    "            print(\"Please Wait......Translating\")\n",
    "            sound_dir = save_tran_text(translated_text,lan)\n",
    "            \n",
    "            clear_output()        # CLEAR SCREEN\n",
    "            \n",
    "            sound_dir_loc=sound_dir[1:]\n",
    "            print(\"Your translated sound is avl at C:/Users/Desktop/project{}\\nEND\".format(sound_dir_loc))\n",
    "            playsound(sound_dir)\n",
    "        elif i ==2 :\n",
    "            print(\"Thanks... END!!!!!!!!\") "
   ]
  },
  {
   "cell_type": "code",
   "execution_count": null,
   "metadata": {
    "collapsed": true,
    "scrolled": true
   },
   "outputs": [],
   "source": []
  }
 ],
 "metadata": {
  "kernelspec": {
   "display_name": "Python 3",
   "language": "python",
   "name": "python3"
  },
  "language_info": {
   "codemirror_mode": {
    "name": "ipython",
    "version": 3
   },
   "file_extension": ".py",
   "mimetype": "text/x-python",
   "name": "python",
   "nbconvert_exporter": "python",
   "pygments_lexer": "ipython3",
   "version": "3.6.12"
  }
 },
 "nbformat": 4,
 "nbformat_minor": 4
}
